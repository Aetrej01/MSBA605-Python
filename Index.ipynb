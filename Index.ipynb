{
 "cells": [
  {
   "cell_type": "code",
   "execution_count": 4,
   "metadata": {},
   "outputs": [
    {
     "data": {
      "text/plain": [
       "['rojo', 'blanco', 'azul']"
      ]
     },
     "execution_count": 4,
     "metadata": {},
     "output_type": "execute_result"
    }
   ],
   "source": [
    "colors = [\"rojo\", \"blanco\", \"azul\"]\n",
    "colors"
   ]
  },
  {
   "cell_type": "code",
   "execution_count": 6,
   "metadata": {},
   "outputs": [
    {
     "name": "stdout",
     "output_type": "stream",
     "text": [
      "0\n",
      "1\n",
      "2\n"
     ]
    }
   ],
   "source": [
    "for index, color in enumerate(colors):\n",
    "    print(index)"
   ]
  },
  {
   "cell_type": "code",
   "execution_count": 3,
   "metadata": {},
   "outputs": [],
   "source": [
    "colors[2]"
   ]
  },
  {
   "cell_type": "code",
   "execution_count": 1,
   "metadata": {},
   "outputs": [],
   "source": [
    "cars = {\n",
    "    \"ford\": {\"year\": 2020, \"model\": \"fiesta\"},\n",
    "    \"honda\": {\"year\": 2022, \"model\": \"civic\"}\n",
    "}"
   ]
  },
  {
   "cell_type": "code",
   "execution_count": 12,
   "metadata": {},
   "outputs": [
    {
     "name": "stdout",
     "output_type": "stream",
     "text": [
      "a0286655-29f9-4ae7-826c-4fba7b360ecb\n",
      "9d426725-35de-49cf-b128-adaa12b0f959\n",
      "f5a60398-90d9-4248-80f6-2470700ae4ae\n",
      "855347c5-2b5c-4626-bb4f-b46068ea851b\n",
      "61198f4c-84fd-4127-a0da-befe3354883d\n",
      "b608dc06-da32-4a06-a9c0-ff392c8ea509\n",
      "ceaaa249-397a-4037-ba99-cacd6d8cace4\n",
      "c48f2e6f-d758-4ad1-8d7d-5a131daa5e82\n",
      "1ef5349f-5dbd-432a-b26a-89bdb1f248d0\n",
      "bc4fc1d5-9d52-4a47-af57-8535fcea9346\n",
      "ffd32a48-8661-47f9-a2a2-da41041e9ca9\n",
      "61d09d2f-9d03-4156-846c-0d8a0d4e1580\n",
      "88e2935c-22cb-4ecf-8843-f7e35c6c30f3\n",
      "1d5ce235-d1fd-4c70-99f8-6d822a1eb1d4\n",
      "56999558-9798-47eb-bee1-98fd331ecbc2\n",
      "4dc958db-1290-4879-b7df-837e09675518\n",
      "c665f43c-f55d-4168-8dc7-c7488706603d\n",
      "e6627fe1-1cf3-406b-be50-143f23a93b5d\n",
      "da2da3bf-5747-433c-9519-fa41b72c055f\n",
      "8f1faccf-997a-4a30-a865-4dc207ae7db2\n",
      "3697fca2-99b3-4333-8c36-1527429a069c\n",
      "d809a5ec-ae45-424f-8492-021c390b5875\n",
      "9e7c9d00-720f-4734-9b71-5ba7bf97af38\n",
      "552beaf5-0dbe-4e59-8e5e-4ef19dacf62b\n",
      "5478e557-baf4-4c94-83cb-f9898d630ff4\n",
      "1d55f008-e6e5-4934-9e57-3c97b99d1241\n",
      "8b074181-fac4-4818-8ce7-3749a47010a2\n",
      "52210b89-b08b-419a-be68-634d335ec874\n",
      "c646dfe3-969b-4305-8734-68b234d30ebe\n",
      "a196c6dd-ed78-403e-bbb5-629d620265ab\n",
      "fbccf2b9-112a-47b5-96fa-527133c928a9\n",
      "b79c9832-4fa9-41c0-88bb-4cf8f1cf06de\n",
      "af0926ce-b199-47cc-91bc-cc6cd33165e4\n",
      "5567fad2-6da6-4aeb-a089-edf4771f8601\n",
      "e39fbf18-2650-4eec-bc3e-bec358758548\n",
      "d95317d4-a34a-49de-8d30-b7940f1e97f9\n",
      "b35655e2-79d2-46c6-a94a-5cf807a3dfa6\n",
      "032e36a5-08df-4a68-87da-8b863431e479\n",
      "7c34f13c-8d73-471e-9963-466a905e4d63\n",
      "93a697f3-1df4-499a-81bb-3e687ed9bc5f\n",
      "1154cd5f-d6cc-4fd3-8aa7-7977557d4372\n",
      "8685d10f-4d0a-43ba-b42d-a7fc19f5a0ec\n",
      "1863ee91-faf3-43d5-b63d-f25a78feadfc\n",
      "8302f413-39b4-4343-839c-0209acd4deeb\n",
      "e54e59e4-d3cb-4287-9128-6d330572d9d9\n",
      "5a747b27-9835-440d-ba55-827f08c05718\n",
      "65feb1e6-f358-4484-9543-4640d3382ae4\n",
      "4482a725-3de7-46ae-a371-e81c3c191e19\n",
      "f5177912-5c66-4bbd-8c0c-83b7e7d194f2\n",
      "faf46893-7ac5-4d64-8c59-6173dc5bf66a\n"
     ]
    }
   ],
   "source": [
    "import uuid\n",
    "\n",
    "random_ids = [str(uuid.uuid4()) for _ in range(50)]\n",
    "\n",
    "# Print the list of random IDs\n",
    "for id in random_ids:\n",
    "    print(id)\n"
   ]
  },
  {
   "cell_type": "code",
   "execution_count": 17,
   "metadata": {},
   "outputs": [
    {
     "data": {
      "text/plain": [
       "[28, 29, 30, 31, 32, 33, 34, 35, 36, 37, 38]"
      ]
     },
     "execution_count": 17,
     "metadata": {},
     "output_type": "execute_result"
    }
   ],
   "source": [
    "random_ids = [\n",
    "'a0286655-29f9-4ae7-826c-4fba7b360ecb',\n",
    "'9d426725-35de-49cf-b128-adaa12b0f959',\n",
    "'f5a60398-90d9-4248-80f6-2470700ae4ae',\n",
    "'855347c5-2b5c-4626-bb4f-b46068ea851b',\n",
    "'61198f4c-84fd-4127-a0da-befe3354883d',\n",
    "'b608dc06-da32-4a06-a9c0-ff392c8ea509',\n",
    "'ceaaa249-397a-4037-ba99-cacd6d8cace4',\n",
    "'c48f2e6f-d758-4ad1-8d7d-5a131daa5e82',\n",
    "'1ef5349f-5dbd-432a-b26a-89bdb1f248d0',\n",
    "'bc4fc1d5-9d52-4a47-af57-8535fcea9346',\n",
    "'ffd32a48-8661-47f9-a2a2-da41041e9ca9',\n",
    "'61d09d2f-9d03-4156-846c-0d8a0d4e1580',\n",
    "'88e2935c-22cb-4ecf-8843-f7e35c6c30f3',\n",
    "'1d5ce235-d1fd-4c70-99f8-6d822a1eb1d4',\n",
    "'56999558-9798-47eb-bee1-98fd331ecbc2',\n",
    "'4dc958db-1290-4879-b7df-837e09675518',\n",
    "'c665f43c-f55d-4168-8dc7-c7488706603d',\n",
    "'e6627fe1-1cf3-406b-be50-143f23a93b5d',\n",
    "'da2da3bf-5747-433c-9519-fa41b72c055f',\n",
    "'8f1faccf-997a-4a30-a865-4dc207ae7db2',\n",
    "'3697fca2-99b3-4333-8c36-1527429a069c',\n",
    "'d809a5ec-ae45-424f-8492-021c390b5875',\n",
    "'9e7c9d00-720f-4734-9b71-5ba7bf97af38',\n",
    "'552beaf5-0dbe-4e59-8e5e-4ef19dacf62b',\n",
    "'5478e557-baf4-4c94-83cb-f9898d630ff4',\n",
    "'1d55f008-e6e5-4934-9e57-3c97b99d1241',\n",
    "'8b074181-fac4-4818-8ce7-3749a47010a2',\n",
    "'52210b89-b08b-419a-be68-634d335ec874',\n",
    "'c646dfe3-969b-4305-8734-68b234d30ebe',\n",
    "'a196c6dd-ed78-403e-bbb5-629d620265ab',\n",
    "'fbccf2b9-112a-47b5-96fa-527133c928a9',\n",
    "'b79c9832-4fa9-41c0-88bb-4cf8f1cf06de',\n",
    "'af0926ce-b199-47cc-91bc-cc6cd33165e4',\n",
    "'5567fad2-6da6-4aeb-a089-edf4771f8601',\n",
    "'e39fbf18-2650-4eec-bc3e-bec358758548',\n",
    "'d95317d4-a34a-49de-8d30-b7940f1e97f9',\n",
    "'b35655e2-79d2-46c6-a94a-5cf807a3dfa6',\n",
    "'032e36a5-08df-4a68-87da-8b863431e479',\n",
    "'7c34f13c-8d73-471e-9963-466a905e4d63',\n",
    "'93a697f3-1df4-499a-81bb-3e687ed9bc5f',\n",
    "'1154cd5f-d6cc-4fd3-8aa7-7977557d4372',\n",
    "'8685d10f-4d0a-43ba-b42d-a7fc19f5a0ec',\n",
    "'1863ee91-faf3-43d5-b63d-f25a78feadfc',\n",
    "'8302f413-39b4-4343-839c-0209acd4deeb',\n",
    "'e54e59e4-d3cb-4287-9128-6d330572d9d9',\n",
    "'5a747b27-9835-440d-ba55-827f08c05718',\n",
    "'65feb1e6-f358-4484-9543-4640d3382ae4',\n",
    "'4482a725-3de7-46ae-a371-e81c3c191e19',\n",
    "'f5177912-5c66-4bbd-8c0c-83b7e7d194f2',\n",
    "'faf46893-7ac5-4d64-8c59-6173dc5bf66a',\n",
    "]\n",
    "\n",
    "ids_to_find = [\n",
    "'c646dfe3-969b-4305-8734-68b234d30ebe',\n",
    "'a196c6dd-ed78-403e-bbb5-629d620265ab',\n",
    "'fbccf2b9-112a-47b5-96fa-527133c928a9',\n",
    "'b79c9832-4fa9-41c0-88bb-4cf8f1cf06de',\n",
    "'af0926ce-b199-47cc-91bc-cc6cd33165e4',\n",
    "'5567fad2-6da6-4aeb-a089-edf4771f8601',\n",
    "'e39fbf18-2650-4eec-bc3e-bec358758548',\n",
    "'d95317d4-a34a-49de-8d30-b7940f1e97f9',\n",
    "'b35655e2-79d2-46c6-a94a-5cf807a3dfa6',\n",
    "'032e36a5-08df-4a68-87da-8b863431e479',\n",
    "'7c34f13c-8d73-471e-9963-466a905e4d63',\n",
    "\n",
    "]\n",
    "\n",
    "random_id_dict=dict()\n",
    "for i, random_id in enumerate(random_ids): \n",
    "    random_id_dict[random_id]=i\n",
    "\n",
    "results = list()\n",
    "for id_to_find in ids_to_find:\n",
    "    results.append(random_id_dict[id_to_find])\n",
    "results"
   ]
  }
 ],
 "metadata": {
  "kernelspec": {
   "display_name": "base",
   "language": "python",
   "name": "python3"
  },
  "language_info": {
   "codemirror_mode": {
    "name": "ipython",
    "version": 3
   },
   "file_extension": ".py",
   "mimetype": "text/x-python",
   "name": "python",
   "nbconvert_exporter": "python",
   "pygments_lexer": "ipython3",
   "version": "3.11.5"
  }
 },
 "nbformat": 4,
 "nbformat_minor": 2
}
