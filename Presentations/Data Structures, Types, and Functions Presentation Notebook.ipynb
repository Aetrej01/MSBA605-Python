{
 "cells": [
  {
   "cell_type": "markdown",
   "metadata": {
    "id": "57f56159"
   },
   "source": [
    "\n",
    "### Data Structures, Types, and Functions"
   ]
  },
  {
   "cell_type": "markdown",
   "metadata": {
    "id": "dfb088cd"
   },
   "source": [
    "#### Variables\n",
    "- allows you to reference previously constructed data in subsequent code\n",
    "    - Assign values using an equal sign (=)\n",
    "    - Access the data stored in a variable by calling the variable name\n",
    "    - Print the value of the variable using the print() command"
   ]
  },
  {
   "cell_type": "code",
   "execution_count": null,
   "metadata": {
    "id": "39b97241",
    "outputId": "13fdcd1c-9366-45e1-b111-e3423622f0b6"
   },
   "outputs": [
    {
     "name": "stdout",
     "output_type": "stream",
     "text": [
      "4\n"
     ]
    }
   ],
   "source": [
    "# My code\n",
    "#assigning value 4 to variable a\n",
    "a = 4\n",
    "print(a)\n"
   ]
  },
  {
   "cell_type": "code",
   "execution_count": null,
   "metadata": {
    "id": "f047af56"
   },
   "outputs": [],
   "source": [
    "# Practice Code"
   ]
  },
  {
   "cell_type": "markdown",
   "metadata": {
    "id": "a80580b9"
   },
   "source": [
    "#### Data Types\n",
    "- dictates the types of transformations you can perform on your data"
   ]
  },
  {
   "cell_type": "code",
   "execution_count": null,
   "metadata": {
    "id": "9c963701",
    "outputId": "59f984a9-6819-41f6-ee69-e301d900e738"
   },
   "outputs": [
    {
     "name": "stdout",
     "output_type": "stream",
     "text": [
      "<class 'int'>\n",
      "<class 'float'>\n",
      "<class 'str'>\n",
      "<class 'bool'>\n"
     ]
    }
   ],
   "source": [
    "# My code\n",
    "# Numeric - Math\n",
    "# Integers\n",
    "a = 4\n",
    "print(type(a))\n",
    "# Float\n",
    "b=3.8\n",
    "print(type(b))\n",
    "# String - String Manipulations\n",
    "d='Smile'\n",
    "print(type(d))\n",
    "# Boolean - Conditional\n",
    "f=False\n",
    "print(type(f))"
   ]
  },
  {
   "cell_type": "code",
   "execution_count": null,
   "metadata": {
    "id": "7d0d5323"
   },
   "outputs": [],
   "source": [
    "# Practice"
   ]
  },
  {
   "cell_type": "markdown",
   "metadata": {
    "id": "0PFbLSUsQ-1j"
   },
   "source": [
    "####Data Structures\n",
    "- different ways to store multiple values as a single variable\n"
   ]
  },
  {
   "cell_type": "markdown",
   "metadata": {
    "id": "W59ctDgCRNko"
   },
   "source": [
    "#####Tuple"
   ]
  },
  {
   "cell_type": "code",
   "execution_count": null,
   "metadata": {
    "colab": {
     "base_uri": "https://localhost:8080/"
    },
    "executionInfo": {
     "elapsed": 237,
     "status": "ok",
     "timestamp": 1695342596797,
     "user": {
      "displayName": "Lily Assgari",
      "userId": "04379398565635692081"
     },
     "user_tz": 240
    },
    "id": "andtUFHESrxH",
    "outputId": "9c3dc1c4-3a99-4365-d2bc-dc94cf770ec9"
   },
   "outputs": [
    {
     "data": {
      "text/plain": [
       "tuple"
      ]
     },
     "execution_count": 9,
     "metadata": {},
     "output_type": "execute_result"
    }
   ],
   "source": [
    "tup=9,5,6\n",
    "type(tup)"
   ]
  },
  {
   "cell_type": "code",
   "execution_count": null,
   "metadata": {
    "colab": {
     "base_uri": "https://localhost:8080/"
    },
    "executionInfo": {
     "elapsed": 209,
     "status": "ok",
     "timestamp": 1695342617648,
     "user": {
      "displayName": "Lily Assgari",
      "userId": "04379398565635692081"
     },
     "user_tz": 240
    },
    "id": "BXuLYlrFSs_l",
    "outputId": "0e6571fb-cd1b-4b5c-dc34-fe10593dc46b"
   },
   "outputs": [
    {
     "data": {
      "text/plain": [
       "('s', 't', 'r', 'i', 'n', 'g')"
      ]
     },
     "execution_count": 11,
     "metadata": {},
     "output_type": "execute_result"
    }
   ],
   "source": [
    "strtup=tuple('string')\n",
    "strtup\n"
   ]
  },
  {
   "cell_type": "code",
   "execution_count": 1,
   "metadata": {
    "id": "y0sQ8vSbS1O4"
   },
   "outputs": [
    {
     "ename": "NameError",
     "evalue": "name 'tup' is not defined",
     "output_type": "error",
     "traceback": [
      "\u001b[1;31m---------------------------------------------------------------------------\u001b[0m",
      "\u001b[1;31mNameError\u001b[0m                                 Traceback (most recent call last)",
      "Cell \u001b[1;32mIn[1], line 1\u001b[0m\n\u001b[1;32m----> 1\u001b[0m \u001b[38;5;28mtype\u001b[39m(tup[\u001b[38;5;241m0\u001b[39m])\n",
      "\u001b[1;31mNameError\u001b[0m: name 'tup' is not defined"
     ]
    }
   ],
   "source": [
    "type(tup[0])"
   ]
  },
  {
   "cell_type": "code",
   "execution_count": 7,
   "metadata": {
    "id": "Ga8xS_Q4S3zk"
   },
   "outputs": [
    {
     "data": {
      "text/plain": [
       "(15783, 567)"
      ]
     },
     "execution_count": 7,
     "metadata": {},
     "output_type": "execute_result"
    }
   ],
   "source": [
    "numtup=tuple([15783,567])\n",
    "numtup"
   ]
  },
  {
   "cell_type": "code",
   "execution_count": 2,
   "metadata": {
    "id": "0EHRP0sMS5RR"
   },
   "outputs": [
    {
     "ename": "NameError",
     "evalue": "name 'tup' is not defined",
     "output_type": "error",
     "traceback": [
      "\u001b[1;31m---------------------------------------------------------------------------\u001b[0m",
      "\u001b[1;31mNameError\u001b[0m                                 Traceback (most recent call last)",
      "Cell \u001b[1;32mIn[2], line 1\u001b[0m\n\u001b[1;32m----> 1\u001b[0m m,n,o\u001b[38;5;241m=\u001b[39mtup\n\u001b[0;32m      2\u001b[0m o\n",
      "\u001b[1;31mNameError\u001b[0m: name 'tup' is not defined"
     ]
    }
   ],
   "source": [
    "m,n,o=tup\n",
    "o"
   ]
  },
  {
   "cell_type": "code",
   "execution_count": null,
   "metadata": {
    "colab": {
     "base_uri": "https://localhost:8080/",
     "height": 210
    },
    "executionInfo": {
     "elapsed": 227,
     "status": "error",
     "timestamp": 1695342643404,
     "user": {
      "displayName": "Lily Assgari",
      "userId": "04379398565635692081"
     },
     "user_tz": 240
    },
    "id": "eawX3WN2S6lg",
    "outputId": "434a3ffb-c887-4194-e113-e354351f9371"
   },
   "outputs": [
    {
     "ename": "TypeError",
     "evalue": "ignored",
     "output_type": "error",
     "traceback": [
      "\u001b[0;31m---------------------------------------------------------------------------\u001b[0m",
      "\u001b[0;31mTypeError\u001b[0m                                 Traceback (most recent call last)",
      "\u001b[0;32m<ipython-input-12-fa55775e50f6>\u001b[0m in \u001b[0;36m<cell line: 2>\u001b[0;34m()\u001b[0m\n\u001b[1;32m      1\u001b[0m \u001b[0;31m#immutable\u001b[0m\u001b[0;34m\u001b[0m\u001b[0;34m\u001b[0m\u001b[0m\n\u001b[0;32m----> 2\u001b[0;31m \u001b[0mtup\u001b[0m\u001b[0;34m[\u001b[0m\u001b[0;36m2\u001b[0m\u001b[0;34m]\u001b[0m\u001b[0;34m=\u001b[0m\u001b[0;36m8\u001b[0m\u001b[0;34m\u001b[0m\u001b[0;34m\u001b[0m\u001b[0m\n\u001b[0m\u001b[1;32m      3\u001b[0m \u001b[0mtup\u001b[0m\u001b[0;34m=\u001b[0m\u001b[0;36m9\u001b[0m\u001b[0;34m,\u001b[0m\u001b[0;36m5\u001b[0m\u001b[0;34m,\u001b[0m\u001b[0;36m8\u001b[0m\u001b[0;34m\u001b[0m\u001b[0;34m\u001b[0m\u001b[0m\n",
      "\u001b[0;31mTypeError\u001b[0m: 'tuple' object does not support item assignment"
     ]
    }
   ],
   "source": [
    "#immutable\n",
    "tup[2]=8\n",
    "tup=9,5,8"
   ]
  },
  {
   "cell_type": "code",
   "execution_count": null,
   "metadata": {
    "id": "mmmhe7m-S-Hw"
   },
   "outputs": [],
   "source": [
    "tup1=1,8,3\n",
    "tup+tup1"
   ]
  },
  {
   "cell_type": "code",
   "execution_count": null,
   "metadata": {
    "colab": {
     "base_uri": "https://localhost:8080/"
    },
    "executionInfo": {
     "elapsed": 245,
     "status": "ok",
     "timestamp": 1695342662357,
     "user": {
      "displayName": "Lily Assgari",
      "userId": "04379398565635692081"
     },
     "user_tz": 240
    },
    "id": "faal-ThpTAJO",
    "outputId": "9fe55514-a9f1-40d1-d2c9-1110bc94157c"
   },
   "outputs": [
    {
     "data": {
      "text/plain": [
       "('smile', 8, 'silly', 'smile', 8, 'silly', 'smile', 8, 'silly')"
      ]
     },
     "execution_count": 13,
     "metadata": {},
     "output_type": "execute_result"
    }
   ],
   "source": [
    "tup1='smile',8,'silly'\n",
    "tup1*3"
   ]
  },
  {
   "cell_type": "markdown",
   "metadata": {
    "id": "45Yw2Y-QRTy7"
   },
   "source": [
    "#####List"
   ]
  },
  {
   "cell_type": "code",
   "execution_count": null,
   "metadata": {
    "colab": {
     "base_uri": "https://localhost:8080/"
    },
    "executionInfo": {
     "elapsed": 248,
     "status": "ok",
     "timestamp": 1695342436379,
     "user": {
      "displayName": "Lily Assgari",
      "userId": "04379398565635692081"
     },
     "user_tz": 240
    },
    "id": "HnQIvepQRwuY",
    "outputId": "81e5d2f3-aabf-4301-e3b8-7f02ed3837df"
   },
   "outputs": [
    {
     "data": {
      "text/plain": [
       "list"
      ]
     },
     "execution_count": 3,
     "metadata": {},
     "output_type": "execute_result"
    }
   ],
   "source": [
    "li=[9,5,6]\n",
    "type(li)"
   ]
  },
  {
   "cell_type": "code",
   "execution_count": 3,
   "metadata": {
    "id": "XLXWJnmDR35u"
   },
   "outputs": [
    {
     "data": {
      "text/plain": [
       "['s', 't', 'r', 'i', 'n', 'g']"
      ]
     },
     "execution_count": 3,
     "metadata": {},
     "output_type": "execute_result"
    }
   ],
   "source": [
    "strli=list('string')\n",
    "strli"
   ]
  },
  {
   "cell_type": "code",
   "execution_count": 4,
   "metadata": {
    "colab": {
     "base_uri": "https://localhost:8080/",
     "height": 175
    },
    "executionInfo": {
     "elapsed": 309,
     "status": "error",
     "timestamp": 1695342379280,
     "user": {
      "displayName": "Lily Assgari",
      "userId": "04379398565635692081"
     },
     "user_tz": 240
    },
    "id": "jeek6qJ0R5jW",
    "outputId": "3ee6c2ac-df00-4e33-8afd-d5f04bb0de7e"
   },
   "outputs": [
    {
     "name": "stdout",
     "output_type": "stream",
     "text": [
      "[15783]\n"
     ]
    }
   ],
   "source": [
    "numli=list([15783])\n",
    "print(numli)"
   ]
  },
  {
   "cell_type": "code",
   "execution_count": null,
   "metadata": {
    "colab": {
     "base_uri": "https://localhost:8080/"
    },
    "executionInfo": {
     "elapsed": 225,
     "status": "ok",
     "timestamp": 1695342441427,
     "user": {
      "displayName": "Lily Assgari",
      "userId": "04379398565635692081"
     },
     "user_tz": 240
    },
    "id": "QhdtCTOxSDkx",
    "outputId": "17b732bc-e1c3-4305-a627-f38a34e32a6b"
   },
   "outputs": [
    {
     "data": {
      "text/plain": [
       "[9, 5, 8]"
      ]
     },
     "execution_count": 4,
     "metadata": {},
     "output_type": "execute_result"
    }
   ],
   "source": [
    "li[2]=8\n",
    "li"
   ]
  },
  {
   "cell_type": "code",
   "execution_count": null,
   "metadata": {
    "colab": {
     "base_uri": "https://localhost:8080/"
    },
    "executionInfo": {
     "elapsed": 219,
     "status": "ok",
     "timestamp": 1695342445635,
     "user": {
      "displayName": "Lily Assgari",
      "userId": "04379398565635692081"
     },
     "user_tz": 240
    },
    "id": "WpvmKEEnSEy6",
    "outputId": "07bebf5d-7e0a-47a2-e18d-2a6f94f85b69"
   },
   "outputs": [
    {
     "data": {
      "text/plain": [
       "[5, 8, 9]"
      ]
     },
     "execution_count": 5,
     "metadata": {},
     "output_type": "execute_result"
    }
   ],
   "source": [
    "li.sort()\n",
    "li"
   ]
  },
  {
   "cell_type": "code",
   "execution_count": null,
   "metadata": {
    "colab": {
     "base_uri": "https://localhost:8080/"
    },
    "executionInfo": {
     "elapsed": 216,
     "status": "ok",
     "timestamp": 1695342449906,
     "user": {
      "displayName": "Lily Assgari",
      "userId": "04379398565635692081"
     },
     "user_tz": 240
    },
    "id": "dDpxOeMtSGhD",
    "outputId": "1ef7e4f7-73aa-474d-bceb-c0977e87f0db"
   },
   "outputs": [
    {
     "data": {
      "text/plain": [
       "[5, 8, 9]"
      ]
     },
     "execution_count": 6,
     "metadata": {},
     "output_type": "execute_result"
    }
   ],
   "source": [
    "lisorted=li.copy()\n",
    "lisorted.sort()\n",
    "lisorted"
   ]
  },
  {
   "cell_type": "code",
   "execution_count": null,
   "metadata": {
    "colab": {
     "base_uri": "https://localhost:8080/"
    },
    "executionInfo": {
     "elapsed": 234,
     "status": "ok",
     "timestamp": 1695342502151,
     "user": {
      "displayName": "Lily Assgari",
      "userId": "04379398565635692081"
     },
     "user_tz": 240
    },
    "id": "AJb6iOGcSTk8",
    "outputId": "5fdb857c-d7dd-4903-fde5-adcf7922cc73"
   },
   "outputs": [
    {
     "data": {
      "text/plain": [
       "[5, 8, 9, 'smile', 8, 'silly']"
      ]
     },
     "execution_count": 7,
     "metadata": {},
     "output_type": "execute_result"
    }
   ],
   "source": [
    "li1=['smile',8,'silly']\n",
    "li+li1"
   ]
  },
  {
   "cell_type": "code",
   "execution_count": 6,
   "metadata": {
    "id": "lsi1JGFvScke"
   },
   "outputs": [
    {
     "ename": "NameError",
     "evalue": "name 'li' is not defined",
     "output_type": "error",
     "traceback": [
      "\u001b[1;31m---------------------------------------------------------------------------\u001b[0m",
      "\u001b[1;31mNameError\u001b[0m                                 Traceback (most recent call last)",
      "Cell \u001b[1;32mIn[6], line 1\u001b[0m\n\u001b[1;32m----> 1\u001b[0m li\u001b[38;5;241m+\u001b[39mtup1\n",
      "\u001b[1;31mNameError\u001b[0m: name 'li' is not defined"
     ]
    }
   ],
   "source": [
    "li+tup1"
   ]
  },
  {
   "cell_type": "code",
   "execution_count": null,
   "metadata": {
    "id": "CpzKjdqzSdph"
   },
   "outputs": [],
   "source": [
    "li.append('sun')\n",
    "li"
   ]
  },
  {
   "cell_type": "code",
   "execution_count": null,
   "metadata": {
    "id": "_9f477YDSfBU"
   },
   "outputs": [],
   "source": [
    "li.pop(1)\n",
    "li"
   ]
  },
  {
   "cell_type": "code",
   "execution_count": null,
   "metadata": {
    "id": "omelcygHShF1"
   },
   "outputs": [],
   "source": [
    "li.insert(1,5)\n",
    "li"
   ]
  },
  {
   "cell_type": "code",
   "execution_count": null,
   "metadata": {
    "id": "B1382dR_RWa3"
   },
   "outputs": [],
   "source": [
    "#Slicing\n",
    "##SLICING\n",
    "li[0:3]"
   ]
  },
  {
   "cell_type": "code",
   "execution_count": null,
   "metadata": {
    "id": "eekm1M10Sjnx"
   },
   "outputs": [],
   "source": [
    "li[-3:]"
   ]
  },
  {
   "cell_type": "code",
   "execution_count": null,
   "metadata": {
    "id": "4K-39bXlSjfU"
   },
   "outputs": [],
   "source": [
    "###this is slicing every third object\n",
    "li[::3]"
   ]
  },
  {
   "cell_type": "markdown",
   "metadata": {
    "id": "1RIuCXeQUraM"
   },
   "source": [
    "#####Dicts"
   ]
  },
  {
   "cell_type": "code",
   "execution_count": null,
   "metadata": {
    "colab": {
     "base_uri": "https://localhost:8080/"
    },
    "executionInfo": {
     "elapsed": 272,
     "status": "ok",
     "timestamp": 1695343312431,
     "user": {
      "displayName": "Lily Assgari",
      "userId": "04379398565635692081"
     },
     "user_tz": 240
    },
    "id": "Z0B_gKRdUwqc",
    "outputId": "2b30e066-d13a-4d17-dd67-91ce18b335a2"
   },
   "outputs": [
    {
     "name": "stdout",
     "output_type": "stream",
     "text": [
      "this value\n",
      "5\n"
     ]
    }
   ],
   "source": [
    "d1={'a':'this value','b':5,'c':['l','i','s','t']}\n",
    "print(d1['a'])\n",
    "print(d1['b'])"
   ]
  },
  {
   "cell_type": "code",
   "execution_count": null,
   "metadata": {
    "colab": {
     "base_uri": "https://localhost:8080/",
     "height": 35
    },
    "executionInfo": {
     "elapsed": 219,
     "status": "ok",
     "timestamp": 1695343318598,
     "user": {
      "displayName": "Lily Assgari",
      "userId": "04379398565635692081"
     },
     "user_tz": 240
    },
    "id": "5TcxFd-zU6uB",
    "outputId": "d7689a76-8a68-4fca-8ddc-db703390ba8c"
   },
   "outputs": [
    {
     "data": {
      "application/vnd.google.colaboratory.intrinsic+json": {
       "type": "string"
      },
      "text/plain": [
       "'dog'"
      ]
     },
     "execution_count": 22,
     "metadata": {},
     "output_type": "execute_result"
    }
   ],
   "source": [
    "d1['d']='dog'\n",
    "d1['d']"
   ]
  },
  {
   "cell_type": "code",
   "execution_count": null,
   "metadata": {
    "colab": {
     "base_uri": "https://localhost:8080/"
    },
    "executionInfo": {
     "elapsed": 207,
     "status": "ok",
     "timestamp": 1695343321343,
     "user": {
      "displayName": "Lily Assgari",
      "userId": "04379398565635692081"
     },
     "user_tz": 240
    },
    "id": "BsYASxT-U9Gg",
    "outputId": "c1159752-b099-49fd-e145-12d073028c43"
   },
   "outputs": [
    {
     "data": {
      "text/plain": [
       "5"
      ]
     },
     "execution_count": 23,
     "metadata": {},
     "output_type": "execute_result"
    }
   ],
   "source": [
    "d1.pop('b')"
   ]
  },
  {
   "cell_type": "code",
   "execution_count": null,
   "metadata": {
    "colab": {
     "base_uri": "https://localhost:8080/"
    },
    "executionInfo": {
     "elapsed": 208,
     "status": "ok",
     "timestamp": 1695343334741,
     "user": {
      "displayName": "Lily Assgari",
      "userId": "04379398565635692081"
     },
     "user_tz": 240
    },
    "id": "FHAG2z8DVkd7",
    "outputId": "ec208ac7-de9c-44e1-95c5-2ca09097dac5"
   },
   "outputs": [
    {
     "data": {
      "text/plain": [
       "{'a': 'this value', 'c': ['l', 'i', 's', 't'], 'd': 'dog'}"
      ]
     },
     "execution_count": 24,
     "metadata": {},
     "output_type": "execute_result"
    }
   ],
   "source": [
    "d1"
   ]
  },
  {
   "cell_type": "code",
   "execution_count": null,
   "metadata": {
    "colab": {
     "base_uri": "https://localhost:8080/"
    },
    "executionInfo": {
     "elapsed": 341,
     "status": "ok",
     "timestamp": 1695343297538,
     "user": {
      "displayName": "Lily Assgari",
      "userId": "04379398565635692081"
     },
     "user_tz": 240
    },
    "id": "cMCILJ8zVH_N",
    "outputId": "a749fb14-e853-48d5-e53c-ff68d594280b"
   },
   "outputs": [
    {
     "data": {
      "text/plain": [
       "{'a': 'this value',\n",
       " 'b': 'diamond',\n",
       " 'c': ['l', 'i', 's', 't'],\n",
       " 'e': 'earth',\n",
       " 'd': 'diamond'}"
      ]
     },
     "execution_count": 20,
     "metadata": {},
     "output_type": "execute_result"
    }
   ],
   "source": [
    "d1['d']='diamond'\n",
    "d1['b']='diamond'\n",
    "d1"
   ]
  },
  {
   "cell_type": "code",
   "execution_count": null,
   "metadata": {
    "id": "NwVo0Z4BVQvm"
   },
   "outputs": [],
   "source": [
    "d2={'lily':'assgari','john':'smith'}"
   ]
  },
  {
   "cell_type": "code",
   "execution_count": null,
   "metadata": {
    "id": "ZfrkC-xFVtjj"
   },
   "outputs": [],
   "source": [
    "d1.update({'e':'earth'})\n",
    "d1"
   ]
  },
  {
   "cell_type": "code",
   "execution_count": null,
   "metadata": {
    "colab": {
     "base_uri": "https://localhost:8080/"
    },
    "executionInfo": {
     "elapsed": 207,
     "status": "ok",
     "timestamp": 1695343279245,
     "user": {
      "displayName": "Lily Assgari",
      "userId": "04379398565635692081"
     },
     "user_tz": 240
    },
    "id": "Qe3_fwgGVRNx",
    "outputId": "db73e2f6-2243-4dd0-ca9e-f2994b08d993"
   },
   "outputs": [
    {
     "data": {
      "text/plain": [
       "dict_values(['this value', 'diamond', ['l', 'i', 's', 't'], 'earth', 'diamond'])"
      ]
     },
     "execution_count": 19,
     "metadata": {},
     "output_type": "execute_result"
    }
   ],
   "source": [
    "d1.values()"
   ]
  },
  {
   "cell_type": "code",
   "execution_count": null,
   "metadata": {
    "colab": {
     "base_uri": "https://localhost:8080/"
    },
    "executionInfo": {
     "elapsed": 221,
     "status": "ok",
     "timestamp": 1695343277636,
     "user": {
      "displayName": "Lily Assgari",
      "userId": "04379398565635692081"
     },
     "user_tz": 240
    },
    "id": "c9CyrBd9VWxB",
    "outputId": "6fddf5a5-6db4-4efc-8e19-30b4c8fa184e"
   },
   "outputs": [
    {
     "data": {
      "text/plain": [
       "['a', 'b', 'c', 'e', 'd']"
      ]
     },
     "execution_count": 18,
     "metadata": {},
     "output_type": "execute_result"
    }
   ],
   "source": [
    "list(d1.keys())"
   ]
  },
  {
   "cell_type": "markdown",
   "metadata": {
    "id": "Ieo8AYZcV28-"
   },
   "source": [
    "#####Sets"
   ]
  },
  {
   "cell_type": "code",
   "execution_count": null,
   "metadata": {
    "colab": {
     "base_uri": "https://localhost:8080/"
    },
    "executionInfo": {
     "elapsed": 218,
     "status": "ok",
     "timestamp": 1695343481116,
     "user": {
      "displayName": "Lily Assgari",
      "userId": "04379398565635692081"
     },
     "user_tz": 240
    },
    "id": "gms8mYppVT0K",
    "outputId": "3c0da11a-3915-4169-b68e-305f9f440c96"
   },
   "outputs": [
    {
     "data": {
      "text/plain": [
       "{2, 3, 4, 5, 6, 7}"
      ]
     },
     "execution_count": 27,
     "metadata": {},
     "output_type": "execute_result"
    }
   ],
   "source": [
    "###creating a set 'a' of numeric values; a will only contain unique values\n",
    "a=set([2,3,3,4,5,6,7])\n",
    "a"
   ]
  },
  {
   "cell_type": "code",
   "execution_count": null,
   "metadata": {
    "id": "7UtjWR97V6ww"
   },
   "outputs": [],
   "source": [
    "b=set([6,7,8,9])\n"
   ]
  },
  {
   "cell_type": "code",
   "execution_count": null,
   "metadata": {
    "colab": {
     "base_uri": "https://localhost:8080/"
    },
    "executionInfo": {
     "elapsed": 218,
     "status": "ok",
     "timestamp": 1695343483794,
     "user": {
      "displayName": "Lily Assgari",
      "userId": "04379398565635692081"
     },
     "user_tz": 240
    },
    "id": "dWYCFqckV8V6",
    "outputId": "b91b0e3d-004d-47db-fbe9-2f4dbfbc645f"
   },
   "outputs": [
    {
     "data": {
      "text/plain": [
       "{2, 3, 4, 5, 6, 7, 8, 9}"
      ]
     },
     "execution_count": 29,
     "metadata": {},
     "output_type": "execute_result"
    }
   ],
   "source": [
    "a.union(b)\n",
    "a|b"
   ]
  },
  {
   "cell_type": "code",
   "execution_count": null,
   "metadata": {
    "colab": {
     "base_uri": "https://localhost:8080/"
    },
    "executionInfo": {
     "elapsed": 255,
     "status": "ok",
     "timestamp": 1695343488886,
     "user": {
      "displayName": "Lily Assgari",
      "userId": "04379398565635692081"
     },
     "user_tz": 240
    },
    "id": "XUA3ZB38V-WO",
    "outputId": "bd084517-4742-42af-af86-89de02574fdf"
   },
   "outputs": [
    {
     "data": {
      "text/plain": [
       "{6, 7}"
      ]
     },
     "execution_count": 30,
     "metadata": {},
     "output_type": "execute_result"
    }
   ],
   "source": [
    "a.intersection(b)\n",
    "a&b"
   ]
  },
  {
   "cell_type": "code",
   "execution_count": null,
   "metadata": {
    "colab": {
     "base_uri": "https://localhost:8080/"
    },
    "executionInfo": {
     "elapsed": 234,
     "status": "ok",
     "timestamp": 1695343498878,
     "user": {
      "displayName": "Lily Assgari",
      "userId": "04379398565635692081"
     },
     "user_tz": 240
    },
    "id": "c1Hk3QyIV_j0",
    "outputId": "beaea622-1a4b-44f1-ec4a-19c98e9681ed"
   },
   "outputs": [
    {
     "data": {
      "text/plain": [
       "{2, 3, 4, 5}"
      ]
     },
     "execution_count": 31,
     "metadata": {},
     "output_type": "execute_result"
    }
   ],
   "source": [
    "a.difference(b)\n",
    "a-b\n"
   ]
  },
  {
   "cell_type": "code",
   "execution_count": null,
   "metadata": {
    "colab": {
     "base_uri": "https://localhost:8080/"
    },
    "executionInfo": {
     "elapsed": 225,
     "status": "ok",
     "timestamp": 1695343505245,
     "user": {
      "displayName": "Lily Assgari",
      "userId": "04379398565635692081"
     },
     "user_tz": 240
    },
    "id": "2D38-W1BWC3A",
    "outputId": "abaef5a9-dc58-4d07-a329-c5eb7a90d1f5"
   },
   "outputs": [
    {
     "data": {
      "text/plain": [
       "{2, 3, 4, 5, 8, 9}"
      ]
     },
     "execution_count": 32,
     "metadata": {},
     "output_type": "execute_result"
    }
   ],
   "source": [
    "a.symmetric_difference(b)\n",
    "a^b\n",
    "a^=b\n",
    "a"
   ]
  },
  {
   "cell_type": "markdown",
   "metadata": {
    "id": "80a5f1fd"
   },
   "source": [
    "#### Functions\n",
    "- allows you to repeat specific transformations multiple times"
   ]
  },
  {
   "cell_type": "code",
   "execution_count": null,
   "metadata": {
    "id": "a3506cac",
    "outputId": "c2e24989-e806-4f12-f0ab-f6641161f166"
   },
   "outputs": [
    {
     "name": "stdout",
     "output_type": "stream",
     "text": [
      "3.0\n",
      "3.6666666666666665\n",
      "3.0\n",
      "3.6666666666666665\n"
     ]
    }
   ],
   "source": [
    "# My code\n",
    "#Basic Functions\n",
    "def average3(x=2,y=3,z=4):\n",
    "    return((x+y+z)/3)"
   ]
  },
  {
   "cell_type": "code",
   "execution_count": null,
   "metadata": {
    "id": "oKcVVlCkTIWY"
   },
   "outputs": [],
   "source": [
    "print(average3())\n",
    "print(average3(z=6))"
   ]
  },
  {
   "cell_type": "code",
   "execution_count": 8,
   "metadata": {
    "id": "g8lrmoteTKgz"
   },
   "outputs": [
    {
     "name": "stdout",
     "output_type": "stream",
     "text": [
      "3.0\n",
      "3.6666666666666665\n"
     ]
    }
   ],
   "source": [
    "#Lambda Functions (shorthand basic functions)\n",
    "avg3 = lambda x=2,y=3,z=4: (x+y+z)/3\n",
    "print(avg3())\n",
    "print(avg3(z=6))"
   ]
  },
  {
   "cell_type": "code",
   "execution_count": null,
   "metadata": {
    "id": "6811d68f"
   },
   "outputs": [],
   "source": [
    "#Practice"
   ]
  }
 ],
 "metadata": {
  "colab": {
   "authorship_tag": "ABX9TyNfRFUl7Gh5xSEV3lIvFpZf",
   "provenance": []
  },
  "kernelspec": {
   "display_name": "Python 3 (ipykernel)",
   "language": "python",
   "name": "python3"
  },
  "language_info": {
   "codemirror_mode": {
    "name": "ipython",
    "version": 3
   },
   "file_extension": ".py",
   "mimetype": "text/x-python",
   "name": "python",
   "nbconvert_exporter": "python",
   "pygments_lexer": "ipython3",
   "version": "3.11.5"
  }
 },
 "nbformat": 4,
 "nbformat_minor": 1
}
