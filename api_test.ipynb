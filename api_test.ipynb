{
 "cells": [
  {
   "cell_type": "code",
   "execution_count": 8,
   "metadata": {},
   "outputs": [
    {
     "data": {
      "text/plain": [
       "200"
      ]
     },
     "execution_count": 8,
     "metadata": {},
     "output_type": "execute_result"
    }
   ],
   "source": [
    "import requests\n",
    "\n",
    "response = requests.get(\"https://cat-fact.herokuapp.com/facts\")\n",
    "response.status_code"
   ]
  },
  {
   "cell_type": "code",
   "execution_count": 9,
   "metadata": {},
   "outputs": [
    {
     "data": {
      "text/plain": [
       "'[{\"status\":{\"verified\":true,\"sentCount\":1},\"_id\":\"58e008780aac31001185ed05\",\"user\":\"58e007480aac31001185ecef\",\"text\":\"Owning a cat can reduce the risk of stroke and heart attack by a third.\",\"__v\":0,\"source\":\"user\",\"updatedAt\":\"2020-08-23T20:20:01.611Z\",\"type\":\"cat\",\"createdAt\":\"2018-03-29T20:20:03.844Z\",\"deleted\":false,\"used\":false},{\"status\":{\"verified\":true,\"sentCount\":1},\"_id\":\"58e009390aac31001185ed10\",\"user\":\"58e007480aac31001185ecef\",\"text\":\"Most cats are lactose intolerant, and milk can cause painful stomach cramps and diarrhea. It\\'s best to forego the milk and just give your cat the standard: clean, cool drinking water.\",\"__v\":0,\"source\":\"user\",\"updatedAt\":\"2020-08-23T20:20:01.611Z\",\"type\":\"cat\",\"createdAt\":\"2018-03-04T21:20:02.979Z\",\"deleted\":false,\"used\":false},{\"status\":{\"verified\":true,\"sentCount\":1},\"_id\":\"588e746706ac2b00110e59ff\",\"user\":\"588e6e8806ac2b00110e59c3\",\"text\":\"Domestic cats spend about 70 percent of the day sleeping and 15 percent of the day grooming.\",\"__v\":0,\"source\":\"user\",\"updatedAt\":\"2020-08-26T20:20:02.359Z\",\"type\":\"cat\",\"createdAt\":\"2018-01-14T21:20:02.750Z\",\"deleted\":false,\"used\":true},{\"status\":{\"verified\":true,\"sentCount\":1},\"_id\":\"58e008ad0aac31001185ed0c\",\"user\":\"58e007480aac31001185ecef\",\"text\":\"The frequency of a domestic cat\\'s purr is the same at which muscles and bones repair themselves.\",\"__v\":0,\"source\":\"user\",\"updatedAt\":\"2020-08-24T20:20:01.867Z\",\"type\":\"cat\",\"createdAt\":\"2018-03-15T20:20:03.281Z\",\"deleted\":false,\"used\":true},{\"status\":{\"verified\":true,\"sentCount\":1},\"_id\":\"58e007cc0aac31001185ecf5\",\"user\":\"58e007480aac31001185ecef\",\"text\":\"Cats are the most popular pet in the United States: There are 88 million pet cats and 74 million dogs.\",\"__v\":0,\"source\":\"user\",\"updatedAt\":\"2020-08-23T20:20:01.611Z\",\"type\":\"cat\",\"createdAt\":\"2018-03-01T21:20:02.713Z\",\"deleted\":false,\"used\":false}]'"
      ]
     },
     "execution_count": 9,
     "metadata": {},
     "output_type": "execute_result"
    }
   ],
   "source": [
    "response.text"
   ]
  },
  {
   "cell_type": "code",
   "execution_count": 11,
   "metadata": {},
   "outputs": [
    {
     "data": {
      "text/plain": [
       "[{'status': {'verified': True, 'sentCount': 1},\n",
       "  '_id': '58e008780aac31001185ed05',\n",
       "  'user': '58e007480aac31001185ecef',\n",
       "  'text': 'Owning a cat can reduce the risk of stroke and heart attack by a third.',\n",
       "  '__v': 0,\n",
       "  'source': 'user',\n",
       "  'updatedAt': '2020-08-23T20:20:01.611Z',\n",
       "  'type': 'cat',\n",
       "  'createdAt': '2018-03-29T20:20:03.844Z',\n",
       "  'deleted': False,\n",
       "  'used': False},\n",
       " {'status': {'verified': True, 'sentCount': 1},\n",
       "  '_id': '58e009390aac31001185ed10',\n",
       "  'user': '58e007480aac31001185ecef',\n",
       "  'text': \"Most cats are lactose intolerant, and milk can cause painful stomach cramps and diarrhea. It's best to forego the milk and just give your cat the standard: clean, cool drinking water.\",\n",
       "  '__v': 0,\n",
       "  'source': 'user',\n",
       "  'updatedAt': '2020-08-23T20:20:01.611Z',\n",
       "  'type': 'cat',\n",
       "  'createdAt': '2018-03-04T21:20:02.979Z',\n",
       "  'deleted': False,\n",
       "  'used': False},\n",
       " {'status': {'verified': True, 'sentCount': 1},\n",
       "  '_id': '588e746706ac2b00110e59ff',\n",
       "  'user': '588e6e8806ac2b00110e59c3',\n",
       "  'text': 'Domestic cats spend about 70 percent of the day sleeping and 15 percent of the day grooming.',\n",
       "  '__v': 0,\n",
       "  'source': 'user',\n",
       "  'updatedAt': '2020-08-26T20:20:02.359Z',\n",
       "  'type': 'cat',\n",
       "  'createdAt': '2018-01-14T21:20:02.750Z',\n",
       "  'deleted': False,\n",
       "  'used': True},\n",
       " {'status': {'verified': True, 'sentCount': 1},\n",
       "  '_id': '58e008ad0aac31001185ed0c',\n",
       "  'user': '58e007480aac31001185ecef',\n",
       "  'text': \"The frequency of a domestic cat's purr is the same at which muscles and bones repair themselves.\",\n",
       "  '__v': 0,\n",
       "  'source': 'user',\n",
       "  'updatedAt': '2020-08-24T20:20:01.867Z',\n",
       "  'type': 'cat',\n",
       "  'createdAt': '2018-03-15T20:20:03.281Z',\n",
       "  'deleted': False,\n",
       "  'used': True},\n",
       " {'status': {'verified': True, 'sentCount': 1},\n",
       "  '_id': '58e007cc0aac31001185ecf5',\n",
       "  'user': '58e007480aac31001185ecef',\n",
       "  'text': 'Cats are the most popular pet in the United States: There are 88 million pet cats and 74 million dogs.',\n",
       "  '__v': 0,\n",
       "  'source': 'user',\n",
       "  'updatedAt': '2020-08-23T20:20:01.611Z',\n",
       "  'type': 'cat',\n",
       "  'createdAt': '2018-03-01T21:20:02.713Z',\n",
       "  'deleted': False,\n",
       "  'used': False}]"
      ]
     },
     "execution_count": 11,
     "metadata": {},
     "output_type": "execute_result"
    }
   ],
   "source": [
    "response_dict = response.json()\n",
    "response_dict"
   ]
  },
  {
   "cell_type": "code",
   "execution_count": 38,
   "metadata": {},
   "outputs": [
    {
     "data": {
      "text/plain": [
       "['Owning a cat can reduce the risk of stroke and heart attack by a third.',\n",
       " \"Most cats are lactose intolerant, and milk can cause painful stomach cramps and diarrhea. It's best to forego the milk and just give your cat the standard: clean, cool drinking water.\",\n",
       " 'Domestic cats spend about 70 percent of the day sleeping and 15 percent of the day grooming.',\n",
       " \"The frequency of a domestic cat's purr is the same at which muscles and bones repair themselves.\",\n",
       " 'Cats are the most popular pet in the United States: There are 88 million pet cats and 74 million dogs.']"
      ]
     },
     "execution_count": 38,
     "metadata": {},
     "output_type": "execute_result"
    }
   ],
   "source": [
    "facts_list=list()\n",
    "for x in response_dict:\n",
    "    facts_list.append(x['text'])\n",
    "\n",
    "facts_list\n",
    "    \n"
   ]
  },
  {
   "cell_type": "code",
   "execution_count": 41,
   "metadata": {},
   "outputs": [],
   "source": [
    "import requests\n",
    "\n",
    "\n",
    "resp = requests.post(\"\", json={\n",
    "    \"part\": 1,\n",
    "    \"background_url\": \"https://www.youtube.com/watch?v=intRX7BRA90\",\n",
    "    \"language\": \"es-VE\",\n",
    "    \"tts\": \"es-VE-SebastianNeural\",  #es-VE-SebastianNeural #PaolaNeural\n",
    "    \"series\": \"Compre un restaurante pero resulta ser que el area le pertence a una pandilla ornitorrincos que se quieren robar el restaurante que hago\",\n",
    "    \"outro\": \"síguenos para más\",\n",
    "    \"text\": \"En un giro sorprendente de eventos, resulta que soy el nuevo propietario de un restaurante en el corazón de un territorio muy peculiar. Mi restaurante se encuentra en un vecindario en el que los delincuentes no son personas, sino ornitorrincos. Sí, has oído bien, ornitorrincos.  El primer día de abrir el restaurante, los \\'patos\\' rebeldes entraron, sus piquitos chasqueando agresivamente. Parecían buscar algo, pero no estaba seguro de qué. Pronto se hizo evidente que lo que buscaban era la cocina... y la despensa de la `muesli`.  Al principio, traté de razonar con ellos, pero parece que mi español fluido no es tan impresionante para los ornitorrincos. Intenté sobornarlos con un par de chapatas, sin embargo, parecen preferir los cereales y los insectos acuáticos.   Frustrado y confundido, fui a la biblioteca local para investigar más sobre los ornitorrincos. Encontré una guía de bolsillo para hablar en ornitorrinco; un lenguaje secreto compuesto principalmente de movimiento de cola y sonidos burbujeantes. Me lo llevé a casa y estudié todo el fin de semana.   El lunes, cuando los bandidos de ornitorrincos vinieron a buscar su ración de maná, saqué toda mi habilidad recién aprendida. Agité mi cola imaginaria de la mejor manera que pude e intenté hacer sonidos burbujeantes.   Los ornitorrincos se quedaron boquiabiertos y perplejos. Uno de ellos lanzó un gruñido burbujeante que, según mi interpretación rápida, podría ser algo así como \\'¿qué hace este humano loco?\\' o \\'quizás él es el elegido\\'. Pero eso es una historia para otro día.\"\n",
    "    }\n",
    ")\n"
   ]
  },
  {
   "cell_type": "code",
   "execution_count": 43,
   "metadata": {},
   "outputs": [
    {
     "data": {
      "text/plain": [
       "200"
      ]
     },
     "execution_count": 43,
     "metadata": {},
     "output_type": "execute_result"
    }
   ],
   "source": [
    "resp.status_code"
   ]
  }
 ],
 "metadata": {
  "kernelspec": {
   "display_name": "base",
   "language": "python",
   "name": "python3"
  },
  "language_info": {
   "codemirror_mode": {
    "name": "ipython",
    "version": 3
   },
   "file_extension": ".py",
   "mimetype": "text/x-python",
   "name": "python",
   "nbconvert_exporter": "python",
   "pygments_lexer": "ipython3",
   "version": "3.11.5"
  }
 },
 "nbformat": 4,
 "nbformat_minor": 2
}
