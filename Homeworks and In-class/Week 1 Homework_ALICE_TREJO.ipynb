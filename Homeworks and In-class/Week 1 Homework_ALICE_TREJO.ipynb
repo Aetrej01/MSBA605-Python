{
 "cells": [
  {
   "cell_type": "markdown",
   "id": "18d69da1",
   "metadata": {
    "id": "18d69da1"
   },
   "source": [
    "## Week 1 Homework\n",
    "\n",
    "#### Follow the prompts below to practice the concepts learned in week 1. Submit the assignment as a .ipynb through blackboard."
   ]
  },
  {
   "cell_type": "markdown",
   "id": "074ca05a",
   "metadata": {
    "id": "074ca05a"
   },
   "source": [
    "##### Prompt 1\n",
    "Create a tuple that contains the letters of your first name (use only lowercase letters). Test the type to prove you created a tuple."
   ]
  },
  {
   "cell_type": "code",
   "execution_count": 1,
   "id": "0cf88271",
   "metadata": {
    "id": "0cf88271"
   },
   "outputs": [
    {
     "name": "stdout",
     "output_type": "stream",
     "text": [
      "('a', 'l', 'i', 'c', 'e')\n",
      "<class 'tuple'>\n"
     ]
    }
   ],
   "source": [
    "strtup=tuple('alice')\n",
    "print(strtup)\n",
    "print(type(strtup))"
   ]
  },
  {
   "cell_type": "code",
   "execution_count": 5,
   "id": "f7b3a454",
   "metadata": {},
   "outputs": [
    {
     "name": "stdout",
     "output_type": "stream",
     "text": [
      "<class 'tuple'>\n"
     ]
    }
   ],
   "source": [
    "#professor's answer\n",
    "nametup=tuple('alice')\n",
    "print(type(nametup))"
   ]
  },
  {
   "cell_type": "markdown",
   "id": "08645fd6",
   "metadata": {
    "id": "08645fd6"
   },
   "source": [
    "##### Prompt 2\n",
    "Try to remove the first character of your name from the above tuple. Explain the result you receive.\n"
   ]
  },
  {
   "cell_type": "code",
   "execution_count": null,
   "id": "288b60f9",
   "metadata": {},
   "outputs": [],
   "source": []
  },
  {
   "cell_type": "code",
   "execution_count": null,
   "id": "x1617ZYAYsKv",
   "metadata": {
    "id": "x1617ZYAYsKv"
   },
   "outputs": [],
   "source": [
    "#Tuples are inmutable in Python. Therefore the values inside of it can't be removed."
   ]
  },
  {
   "cell_type": "markdown",
   "id": "QVWDE0WueAUU",
   "metadata": {
    "id": "QVWDE0WueAUU"
   },
   "source": [
    "##### Prompt 3\n",
    "Take the necessary steps to remove the first character from your tuple created in prompt 1.\n"
   ]
  },
  {
   "cell_type": "code",
   "execution_count": 12,
   "id": "UQUnZtMld-z3",
   "metadata": {
    "id": "UQUnZtMld-z3"
   },
   "outputs": [
    {
     "name": "stdout",
     "output_type": "stream",
     "text": [
      "['l', 'i', 'c', 'e']\n"
     ]
    }
   ],
   "source": [
    "strtup_list = list(strtup)\n",
    "strtup_list.pop(0)\n",
    "print(strtup_list)"
   ]
  },
  {
   "cell_type": "code",
   "execution_count": 6,
   "id": "b5d3d1b2",
   "metadata": {},
   "outputs": [
    {
     "name": "stdout",
     "output_type": "stream",
     "text": [
      "['l', 'i', 'c', 'e']\n"
     ]
    }
   ],
   "source": [
    "#professor's answer\n",
    "namelist=list(nametup)\n",
    "namelist.pop(0)\n",
    "print(namelist)"
   ]
  },
  {
   "cell_type": "markdown",
   "id": "70e2e757",
   "metadata": {
    "id": "70e2e757"
   },
   "source": [
    "##### Prompt 4\n",
    "Print all the unique characters in your first name using a single command."
   ]
  },
  {
   "cell_type": "code",
   "execution_count": 15,
   "id": "a22712ec",
   "metadata": {
    "id": "a22712ec"
   },
   "outputs": [
    {
     "name": "stdout",
     "output_type": "stream",
     "text": [
      "{'e', 'a', 'c', 'i', 'l'}\n"
     ]
    }
   ],
   "source": [
    "name = set('alicei')\n",
    "print(name)\n"
   ]
  },
  {
   "cell_type": "code",
   "execution_count": 7,
   "id": "2d2edfc7",
   "metadata": {},
   "outputs": [
    {
     "name": "stdout",
     "output_type": "stream",
     "text": [
      "{'l', 'a', 'i', 'e', 'c'}\n"
     ]
    }
   ],
   "source": [
    "#professor's answer\n",
    "print(set(nametup))"
   ]
  },
  {
   "cell_type": "markdown",
   "id": "ff4e1fde",
   "metadata": {
    "id": "ff4e1fde"
   },
   "source": [
    "##### Prompt 5\n",
    "Create a variable that stores your favorite number."
   ]
  },
  {
   "cell_type": "code",
   "execution_count": 20,
   "id": "a16c37df",
   "metadata": {
    "id": "a16c37df"
   },
   "outputs": [
    {
     "name": "stdout",
     "output_type": "stream",
     "text": [
      "12\n"
     ]
    }
   ],
   "source": [
    "fav_num = 12\n",
    "print(fav_num)"
   ]
  },
  {
   "cell_type": "code",
   "execution_count": 8,
   "id": "8009e4d4",
   "metadata": {},
   "outputs": [
    {
     "data": {
      "text/plain": [
       "12"
      ]
     },
     "execution_count": 8,
     "metadata": {},
     "output_type": "execute_result"
    }
   ],
   "source": [
    "#professor's answer\n",
    "favnum=12\n",
    "favnum"
   ]
  },
  {
   "cell_type": "markdown",
   "id": "707c72e2",
   "metadata": {
    "id": "707c72e2"
   },
   "source": [
    "##### Prompt 6\n",
    "Determine what percent of 627 your favorite number is by referencing the variable you created above (e.g., use your favorite number as the numerator and 627 as the denominator). Make sure the output is printed as a percent.\n"
   ]
  },
  {
   "cell_type": "code",
   "execution_count": 25,
   "id": "a4f9ed58",
   "metadata": {
    "id": "a4f9ed58"
   },
   "outputs": [
    {
     "name": "stdout",
     "output_type": "stream",
     "text": [
      "1.9%\n"
     ]
    }
   ],
   "source": [
    "den = 627\n",
    "percent = ((favnum/den)*100)\n",
    "print(f\"{percent:.1f}%\")\n"
   ]
  },
  {
   "cell_type": "code",
   "execution_count": 18,
   "id": "19a0f2be",
   "metadata": {},
   "outputs": [
    {
     "name": "stdout",
     "output_type": "stream",
     "text": [
      "1.9138755980861244\n"
     ]
    }
   ],
   "source": [
    "#professor's answer\n",
    "favnumperc=(favnum/627)*100\n",
    "print(favnumperc)"
   ]
  },
  {
   "cell_type": "markdown",
   "id": "3b5b0791",
   "metadata": {
    "id": "3b5b0791"
   },
   "source": [
    "##### Prompt 7\n",
    "Write a lamba function that adds 5 to an input."
   ]
  },
  {
   "cell_type": "code",
   "execution_count": 49,
   "id": "1cb81bbd",
   "metadata": {
    "id": "1cb81bbd"
   },
   "outputs": [
    {
     "name": "stdout",
     "output_type": "stream",
     "text": [
      "7\n"
     ]
    }
   ],
   "source": [
    "add5= lambda x=2: x+5\n",
    "print(add5())"
   ]
  },
  {
   "cell_type": "code",
   "execution_count": 16,
   "metadata": {},
   "outputs": [
    {
     "data": {
      "text/plain": [
       "<function __main__.<lambda>(x)>"
      ]
     },
     "execution_count": 16,
     "metadata": {},
     "output_type": "execute_result"
    }
   ],
   "source": [
    "#professor's answer\n",
    "add5=lambda x: x+5\n",
    "add5"
   ]
  },
  {
   "cell_type": "markdown",
   "id": "b4c553fa",
   "metadata": {
    "id": "b4c553fa"
   },
   "source": [
    "##### Prompt 8\n",
    "Test your lambda function from prompt 7 on your favorite number variable from prompt 5."
   ]
  },
  {
   "cell_type": "code",
   "execution_count": 50,
   "id": "57fe1ccf",
   "metadata": {
    "id": "57fe1ccf"
   },
   "outputs": [
    {
     "name": "stdout",
     "output_type": "stream",
     "text": [
      "17\n"
     ]
    }
   ],
   "source": [
    "print(add5(x=fav_num))"
   ]
  },
  {
   "cell_type": "code",
   "execution_count": 29,
   "id": "a41b89ff",
   "metadata": {},
   "outputs": [
    {
     "data": {
      "text/plain": [
       "17"
      ]
     },
     "execution_count": 29,
     "metadata": {},
     "output_type": "execute_result"
    }
   ],
   "source": [
    "#Professor's answer\n",
    "add5(favnum)"
   ]
  },
  {
   "cell_type": "markdown",
   "id": "c264db9a",
   "metadata": {
    "id": "c264db9a"
   },
   "source": [
    "##### Prompt 9\n",
    "Run the code `int(6.57)`. Explain what the code does, and what may be a potential problem with the output."
   ]
  },
  {
   "cell_type": "code",
   "execution_count": 51,
   "id": "fb53edb2",
   "metadata": {
    "id": "fb53edb2"
   },
   "outputs": [
    {
     "data": {
      "text/plain": [
       "6"
      ]
     },
     "execution_count": 51,
     "metadata": {},
     "output_type": "execute_result"
    }
   ],
   "source": [
    "int(6.57)"
   ]
  },
  {
   "cell_type": "code",
   "execution_count": null,
   "id": "nGTjV-1MZm1q",
   "metadata": {
    "id": "nGTjV-1MZm1q"
   },
   "outputs": [],
   "source": [
    "#int is for whole numbers, that's why output is 6. I should use float instead of int to fix the problem in the output. \n"
   ]
  },
  {
   "cell_type": "markdown",
   "id": "uAchhwFxo_TW",
   "metadata": {
    "id": "uAchhwFxo_TW"
   },
   "source": [
    "##### Prompt 10\n",
    "Regarding prompt 9, what is an alternative command you could use that may alleviate the potentially problematic behavior? Test it on `6.57`.\n",
    "\n",
    "NOTE: you may need to use your resources to determine this command, it has not been covered yet in the material."
   ]
  },
  {
   "cell_type": "code",
   "execution_count": 2,
   "id": "FkgqSGWYo51J",
   "metadata": {
    "id": "FkgqSGWYo51J"
   },
   "outputs": [
    {
     "data": {
      "text/plain": [
       "7"
      ]
     },
     "execution_count": 2,
     "metadata": {},
     "output_type": "execute_result"
    }
   ],
   "source": [
    "round(6.57)"
   ]
  },
  {
   "cell_type": "code",
   "execution_count": 30,
   "id": "bc876367",
   "metadata": {},
   "outputs": [
    {
     "name": "stdout",
     "output_type": "stream",
     "text": [
      "7\n"
     ]
    }
   ],
   "source": [
    "#professor's answer\n",
    "print(round(6.57))"
   ]
  }
 ],
 "metadata": {
  "colab": {
   "provenance": [
    {
     "file_id": "1oFzEXvEXBEjL-ab0pKO8T5LA_D5HFMFd",
     "timestamp": 1695077431639
    }
   ]
  },
  "kernelspec": {
   "display_name": "Python 3 (ipykernel)",
   "language": "python",
   "name": "python3"
  },
  "language_info": {
   "codemirror_mode": {
    "name": "ipython",
    "version": 3
   },
   "file_extension": ".py",
   "mimetype": "text/x-python",
   "name": "python",
   "nbconvert_exporter": "python",
   "pygments_lexer": "ipython3",
   "version": "3.11.5"
  }
 },
 "nbformat": 4,
 "nbformat_minor": 5
}
