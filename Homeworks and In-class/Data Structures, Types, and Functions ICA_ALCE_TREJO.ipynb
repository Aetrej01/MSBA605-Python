{
 "cells": [
  {
   "cell_type": "markdown",
   "id": "18d69da1",
   "metadata": {
    "id": "18d69da1"
   },
   "source": [
    "## Data Structures, Types, and Functions ICA\n",
    "\n",
    "#### Follow the prompts below to practice the concepts learned in week 1. Submit the assignment as a .ipynb through blackboard.\n",
    "\n"
   ]
  },
  {
   "cell_type": "markdown",
   "id": "074ca05a",
   "metadata": {
    "id": "074ca05a"
   },
   "source": [
    "##### Prompt 1\n",
    "Create a tuple that produces the following output when printed: ('h', 'e', 'l', 'l', 'o')"
   ]
  },
  {
   "cell_type": "code",
   "execution_count": 2,
   "id": "0cf88271",
   "metadata": {
    "id": "0cf88271"
   },
   "outputs": [
    {
     "name": "stdout",
     "output_type": "stream",
     "text": [
      "('h', 'e', 'l', 'l', 'o')\n"
     ]
    }
   ],
   "source": [
    "strtup=tuple('hello')\n",
    "print(strtup)"
   ]
  },
  {
   "cell_type": "markdown",
   "id": "08645fd6",
   "metadata": {
    "id": "08645fd6"
   },
   "source": [
    "##### Prompt 2\n",
    "Slice your tuple and print the second character (the 'e')"
   ]
  },
  {
   "cell_type": "code",
   "execution_count": 7,
   "id": "6095555d",
   "metadata": {
    "id": "6095555d"
   },
   "outputs": [
    {
     "name": "stdout",
     "output_type": "stream",
     "text": [
      "e\n"
     ]
    }
   ],
   "source": [
    "strtup[1]\n",
    "print(strtup[1])"
   ]
  },
  {
   "cell_type": "markdown",
   "id": "70e2e757",
   "metadata": {
    "id": "70e2e757"
   },
   "source": [
    "##### Prompt 3\n",
    "Create a list the produces the following output when printed:[4, 9, 2, 0, 4, 0]"
   ]
  },
  {
   "cell_type": "code",
   "execution_count": 24,
   "id": "a22712ec",
   "metadata": {
    "id": "a22712ec"
   },
   "outputs": [
    {
     "name": "stdout",
     "output_type": "stream",
     "text": [
      "[4, 9, 2, 0, 4, 0]\n",
      "<class 'list'>\n"
     ]
    }
   ],
   "source": [
    "numli=[4,9,2,0,4,0]\n",
    "print(numli)\n",
    "print(type(numli))"
   ]
  },
  {
   "cell_type": "markdown",
   "id": "ff4e1fde",
   "metadata": {
    "id": "ff4e1fde"
   },
   "source": [
    "##### Prompt 4\n",
    "Test the type of your list variable above to prove it is a list and print the output."
   ]
  },
  {
   "cell_type": "code",
   "execution_count": 26,
   "id": "a16c37df",
   "metadata": {
    "id": "a16c37df"
   },
   "outputs": [
    {
     "name": "stdout",
     "output_type": "stream",
     "text": [
      "<class 'list'>\n"
     ]
    }
   ],
   "source": [
    "numli=[4,9,2,0,4,0]\n",
    "print(type(numli))"
   ]
  },
  {
   "cell_type": "markdown",
   "id": "a81a4a11",
   "metadata": {
    "id": "a81a4a11"
   },
   "source": [
    "##### Prompt 5\n",
    "Convert your list to a tuple, test and print the type."
   ]
  },
  {
   "cell_type": "code",
   "execution_count": 27,
   "id": "5fcfad11",
   "metadata": {
    "id": "5fcfad11"
   },
   "outputs": [
    {
     "name": "stdout",
     "output_type": "stream",
     "text": [
      "(4, 9, 2, 0, 4, 0)\n",
      "<class 'tuple'>\n"
     ]
    }
   ],
   "source": [
    "numli=tuple([4,9,2,0,4,0])\n",
    "print(numli)\n",
    "print(type(numli))"
   ]
  },
  {
   "cell_type": "markdown",
   "id": "23e6304d",
   "metadata": {
    "id": "23e6304d"
   },
   "source": [
    "##### Prompt 6\n",
    "Create a set using the values of your list from prompt 3. print your result."
   ]
  },
  {
   "cell_type": "code",
   "execution_count": 29,
   "id": "f8ed6a9e",
   "metadata": {
    "id": "f8ed6a9e"
   },
   "outputs": [
    {
     "name": "stdout",
     "output_type": "stream",
     "text": [
      "{0, 9, 2, 4}\n"
     ]
    }
   ],
   "source": [
    "a=set([4, 9, 2, 0, 4, 0])\n",
    "print(a)"
   ]
  },
  {
   "cell_type": "markdown",
   "id": "707c72e2",
   "metadata": {
    "id": "707c72e2"
   },
   "source": [
    "##### Prompt 7\n",
    "Create a dictionary that has the name of the month as the keys and the number of the month as values (for example, January would be the key, and 1 would be the value, February would be the key, and 2 would be the value, and so on). Print your result."
   ]
  },
  {
   "cell_type": "code",
   "execution_count": 35,
   "id": "a4f9ed58",
   "metadata": {
    "id": "a4f9ed58"
   },
   "outputs": [
    {
     "name": "stdout",
     "output_type": "stream",
     "text": [
      "{'Jan': 1, 'Feb': 2, 'March': 3, 'April': 4, 'May': 5, 'Jun': 6, 'Jul': 7, 'Aug': 8, 'Sep': 9, 'Oct': 10, 'Nov': 11, 'Dec': 12}\n"
     ]
    }
   ],
   "source": [
    "months={'Jan': 1, 'Feb': 2, 'March': 3, 'April': 4, 'May': 5, 'Jun': 6, 'Jul': 7, 'Aug': 8, 'Sep': 9, 'Oct': 10, 'Nov': 11, 'Dec': 12}\n",
    "print(months)\n"
   ]
  },
  {
   "cell_type": "markdown",
   "id": "3b5b0791",
   "metadata": {
    "id": "3b5b0791"
   },
   "source": [
    "##### Prompt 8\n",
    "Assign 3 to a variable name 'a' and 2 to a variable named 'b'. Print the type of these variables."
   ]
  },
  {
   "cell_type": "code",
   "execution_count": 36,
   "id": "1cb81bbd",
   "metadata": {
    "id": "1cb81bbd"
   },
   "outputs": [
    {
     "name": "stdout",
     "output_type": "stream",
     "text": [
      "<class 'int'>\n",
      "<class 'int'>\n"
     ]
    }
   ],
   "source": [
    "a=3 \n",
    "b=2\n",
    "print(type(a))\n",
    "print(type(b))"
   ]
  },
  {
   "cell_type": "markdown",
   "id": "b4c553fa",
   "metadata": {
    "id": "b4c553fa"
   },
   "source": [
    "##### Prompt 9\n",
    "Create a variable 'adivb' that is the results of a divided by b and test the type of the result. What do you notice about the type and pythons ability to convert from int to float when necessary?"
   ]
  },
  {
   "cell_type": "code",
   "execution_count": 37,
   "id": "57fe1ccf",
   "metadata": {
    "id": "57fe1ccf"
   },
   "outputs": [
    {
     "name": "stdout",
     "output_type": "stream",
     "text": [
      "<class 'float'>\n"
     ]
    }
   ],
   "source": [
    "adivb=a/b\n",
    "print(type(adivb))\n",
    "#class= float since the answer is a decimal.\n",
    "#Python recognizes any division with one / as a 'float'"
   ]
  },
  {
   "cell_type": "markdown",
   "id": "c264db9a",
   "metadata": {
    "id": "c264db9a"
   },
   "source": [
    "##### Prompt 10\n",
    "Write a function will return the result of a divided by b (similar to the problem above). Call the function adivideb and test it by inputting a and b."
   ]
  },
  {
   "cell_type": "code",
   "execution_count": 41,
   "id": "fb53edb2",
   "metadata": {
    "id": "fb53edb2"
   },
   "outputs": [
    {
     "name": "stdout",
     "output_type": "stream",
     "text": [
      "1.5\n"
     ]
    }
   ],
   "source": [
    "def adivideb(a=3, b=2):\n",
    "    return(a/b)\n",
    "print(adivideb())"
   ]
  }
 ],
 "metadata": {
  "colab": {
   "provenance": [
    {
     "file_id": "1zv_RlZGj15RxVBer3lC1-O4CE_RqPWqp",
     "timestamp": 1694808407621
    }
   ]
  },
  "kernelspec": {
   "display_name": "Python 3 (ipykernel)",
   "language": "python",
   "name": "python3"
  },
  "language_info": {
   "codemirror_mode": {
    "name": "ipython",
    "version": 3
   },
   "file_extension": ".py",
   "mimetype": "text/x-python",
   "name": "python",
   "nbconvert_exporter": "python",
   "pygments_lexer": "ipython3",
   "version": "3.11.5"
  }
 },
 "nbformat": 4,
 "nbformat_minor": 5
}
